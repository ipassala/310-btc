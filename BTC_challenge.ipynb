{
 "cells": [
  {
   "cell_type": "markdown",
   "metadata": {},
   "source": [
    "# Bitcoin Challenge"
   ]
  },
  {
   "cell_type": "markdown",
   "metadata": {},
   "source": [
    "## Contents\n",
    "\n",
    "* [Intro](#intro)"
   ]
  },
  {
   "cell_type": "markdown",
   "metadata": {},
   "source": [
    "<a id='intro'></a>\n",
    "So there's a guy that calls himself \"pip\", offering 310 BitCoins (BTC) to who can solve this image riddle. We're going to try to solve, but because we're almost 1 week behind, first we'll replicate other people's findings and theories. Shout-outs to [r/crypto_jedi_ninja](https://www.reddit.com/user/crypto_jedi_ninja) for compiling the following list of theories-work already cooked:\n",
    "\n",
    "* Creator calls himself \"pip\", some people believe this is hint to [this riddle-problem](https://www.theguardian.com/science/2017/nov/20/did-you-solve-it-this-apple-teaser-is-hard-core).\n",
    "* According to pip: Can only *partly* be solved by printing the image and not using software.\n",
    "* The number 310 is the prize and it's written by hand on the image. There's also a QR code found on row 310 in the image. [As we get here](TODO: LINK TO THE MOMENT WE MAKE THE QR HE USES LSB FROM REDS).\n",
    "* Pip used Least Significant Bit (LSB) to hide information in 310, he could be using it in more places.\n",
    "* According to pip, he expects you to message the SHA256 on a single line [when you get to this page](https://bitcoinchallenge.codes/register-310/).\n",
    "* Some inferred you need to find three smaller keys with small rewards to access the big one. Those keys are 0.31, 0.2 and 0.1 BTC, a guy called *Lustre* was confirmed by pip to have found the 0.1 BTC key.\n",
    "* The values for each key could be another hint: 0.31, 0.2 and 0.1.\n",
    "* The original image used can be [seen here](https://tineye.com/search/00c4ec33b3746f9f5b61946101561e15a694868e/) *note: i don't really know what that means hehe xd*\n",
    "* Some say it could be [a mosaic puzzle](https://airccj.org/CSCP/vol7/csit76703.pdf), others that it could be based on [voronoi diagrams](http://msn.iecs.fcu.edu.tw/~ccc/profile/publish/ij_paper2/IJ-664.pdf).\n",
    "* Curved lines and circle on the image may be alluding [to this older riddle](https://steemit.com/bitcoin/@mmorsl/solution-of-the-bitcoin-crypto-puzzle-level-4-by-zden) which used Bezier curves.\n",
    "* There are 21 characters in the image: L 3 C E O 2 7 5 K O D 8 9 9 D 4 F A 1 F 6 4\n",
    "* There're 3 letter groups in a grid, they could be words from the [Bip-18 word algorithm](https://github.com/bitcoin/bips) or something else. The grid contains the following: 511 B20 332 328 410 530 | 22B 0FE 52E D0F 7A1 65B | 52C 7E7 511 2F6 56F C4B.\n",
    "\n",
    "That's all, be sure to [check the reddit](https://www.reddit.com/r/Bitcoin/comments/9kq7it/introducing_the_310_btc_bitcoin_challenge/) in case *pip* drops another hint.\n",
    "\n",
    "![This is the riddle image](challenge.png)"
   ]
  }
 ],
 "metadata": {
  "kernelspec": {
   "display_name": "Python 3",
   "language": "python",
   "name": "python3"
  },
  "language_info": {
   "codemirror_mode": {
    "name": "ipython",
    "version": 3
   },
   "file_extension": ".py",
   "mimetype": "text/x-python",
   "name": "python",
   "nbconvert_exporter": "python",
   "pygments_lexer": "ipython3",
   "version": "3.6.6"
  }
 },
 "nbformat": 4,
 "nbformat_minor": 2
}
